{
 "cells": [
  {
   "cell_type": "markdown",
   "id": "80404498-e402-40ce-a065-cbbf39a79def",
   "metadata": {},
   "source": [
    "# Title : Pokemon (Pikachu vs Raichu ) Prediction"
   ]
  },
  {
   "cell_type": "code",
   "execution_count": 1,
   "id": "b0252252-338f-44de-a093-239920a4e394",
   "metadata": {},
   "outputs": [
    {
     "name": "stdout",
     "output_type": "stream",
     "text": [
      "Requirement already satisfied: tensorflow in c:\\users\\santo\\appdata\\local\\programs\\python\\python38\\lib\\site-packages (2.13.0)\n",
      "Requirement already satisfied: tensorflow-intel==2.13.0 in c:\\users\\santo\\appdata\\local\\programs\\python\\python38\\lib\\site-packages (from tensorflow) (2.13.0)\n",
      "Requirement already satisfied: absl-py>=1.0.0 in c:\\users\\santo\\appdata\\local\\programs\\python\\python38\\lib\\site-packages (from tensorflow-intel==2.13.0->tensorflow) (2.3.1)\n",
      "Requirement already satisfied: astunparse>=1.6.0 in c:\\users\\santo\\appdata\\local\\programs\\python\\python38\\lib\\site-packages (from tensorflow-intel==2.13.0->tensorflow) (1.6.3)\n",
      "Requirement already satisfied: flatbuffers>=23.1.21 in c:\\users\\santo\\appdata\\local\\programs\\python\\python38\\lib\\site-packages (from tensorflow-intel==2.13.0->tensorflow) (25.2.10)\n",
      "Requirement already satisfied: gast<=0.4.0,>=0.2.1 in c:\\users\\santo\\appdata\\local\\programs\\python\\python38\\lib\\site-packages (from tensorflow-intel==2.13.0->tensorflow) (0.4.0)\n",
      "Requirement already satisfied: google-pasta>=0.1.1 in c:\\users\\santo\\appdata\\local\\programs\\python\\python38\\lib\\site-packages (from tensorflow-intel==2.13.0->tensorflow) (0.2.0)\n",
      "Requirement already satisfied: h5py>=2.9.0 in c:\\users\\santo\\appdata\\local\\programs\\python\\python38\\lib\\site-packages (from tensorflow-intel==2.13.0->tensorflow) (3.11.0)\n",
      "Requirement already satisfied: libclang>=13.0.0 in c:\\users\\santo\\appdata\\local\\programs\\python\\python38\\lib\\site-packages (from tensorflow-intel==2.13.0->tensorflow) (18.1.1)\n",
      "Requirement already satisfied: numpy<=1.24.3,>=1.22 in c:\\users\\santo\\appdata\\local\\programs\\python\\python38\\lib\\site-packages (from tensorflow-intel==2.13.0->tensorflow) (1.24.3)\n",
      "Requirement already satisfied: opt-einsum>=2.3.2 in c:\\users\\santo\\appdata\\local\\programs\\python\\python38\\lib\\site-packages (from tensorflow-intel==2.13.0->tensorflow) (3.4.0)\n",
      "Requirement already satisfied: packaging in c:\\users\\santo\\appdata\\local\\programs\\python\\python38\\lib\\site-packages (from tensorflow-intel==2.13.0->tensorflow) (25.0)\n",
      "Requirement already satisfied: protobuf!=4.21.0,!=4.21.1,!=4.21.2,!=4.21.3,!=4.21.4,!=4.21.5,<5.0.0dev,>=3.20.3 in c:\\users\\santo\\appdata\\local\\programs\\python\\python38\\lib\\site-packages (from tensorflow-intel==2.13.0->tensorflow) (4.25.8)\n",
      "Requirement already satisfied: setuptools in c:\\users\\santo\\appdata\\local\\programs\\python\\python38\\lib\\site-packages (from tensorflow-intel==2.13.0->tensorflow) (41.2.0)\n",
      "Requirement already satisfied: six>=1.12.0 in c:\\users\\santo\\appdata\\local\\programs\\python\\python38\\lib\\site-packages (from tensorflow-intel==2.13.0->tensorflow) (1.17.0)\n",
      "Requirement already satisfied: termcolor>=1.1.0 in c:\\users\\santo\\appdata\\local\\programs\\python\\python38\\lib\\site-packages (from tensorflow-intel==2.13.0->tensorflow) (2.4.0)\n",
      "Requirement already satisfied: typing-extensions<4.6.0,>=3.6.6 in c:\\users\\santo\\appdata\\local\\programs\\python\\python38\\lib\\site-packages (from tensorflow-intel==2.13.0->tensorflow) (4.5.0)\n",
      "Requirement already satisfied: wrapt>=1.11.0 in c:\\users\\santo\\appdata\\local\\programs\\python\\python38\\lib\\site-packages (from tensorflow-intel==2.13.0->tensorflow) (1.17.2)\n",
      "Requirement already satisfied: grpcio<2.0,>=1.24.3 in c:\\users\\santo\\appdata\\local\\programs\\python\\python38\\lib\\site-packages (from tensorflow-intel==2.13.0->tensorflow) (1.70.0)\n",
      "Requirement already satisfied: tensorboard<2.14,>=2.13 in c:\\users\\santo\\appdata\\local\\programs\\python\\python38\\lib\\site-packages (from tensorflow-intel==2.13.0->tensorflow) (2.13.0)\n",
      "Requirement already satisfied: tensorflow-estimator<2.14,>=2.13.0 in c:\\users\\santo\\appdata\\local\\programs\\python\\python38\\lib\\site-packages (from tensorflow-intel==2.13.0->tensorflow) (2.13.0)\n",
      "Requirement already satisfied: keras<2.14,>=2.13.1 in c:\\users\\santo\\appdata\\local\\programs\\python\\python38\\lib\\site-packages (from tensorflow-intel==2.13.0->tensorflow) (2.13.1)\n",
      "Requirement already satisfied: tensorflow-io-gcs-filesystem>=0.23.1 in c:\\users\\santo\\appdata\\local\\programs\\python\\python38\\lib\\site-packages (from tensorflow-intel==2.13.0->tensorflow) (0.31.0)\n",
      "Requirement already satisfied: wheel<1.0,>=0.23.0 in c:\\users\\santo\\appdata\\local\\programs\\python\\python38\\lib\\site-packages (from astunparse>=1.6.0->tensorflow-intel==2.13.0->tensorflow) (0.45.1)\n",
      "Requirement already satisfied: google-auth<3,>=1.6.3 in c:\\users\\santo\\appdata\\local\\programs\\python\\python38\\lib\\site-packages (from tensorboard<2.14,>=2.13->tensorflow-intel==2.13.0->tensorflow) (2.40.3)\n",
      "Requirement already satisfied: google-auth-oauthlib<1.1,>=0.5 in c:\\users\\santo\\appdata\\local\\programs\\python\\python38\\lib\\site-packages (from tensorboard<2.14,>=2.13->tensorflow-intel==2.13.0->tensorflow) (1.0.0)\n",
      "Requirement already satisfied: markdown>=2.6.8 in c:\\users\\santo\\appdata\\local\\programs\\python\\python38\\lib\\site-packages (from tensorboard<2.14,>=2.13->tensorflow-intel==2.13.0->tensorflow) (3.7)\n",
      "Requirement already satisfied: requests<3,>=2.21.0 in c:\\users\\santo\\appdata\\local\\programs\\python\\python38\\lib\\site-packages (from tensorboard<2.14,>=2.13->tensorflow-intel==2.13.0->tensorflow) (2.32.4)\n",
      "Requirement already satisfied: tensorboard-data-server<0.8.0,>=0.7.0 in c:\\users\\santo\\appdata\\local\\programs\\python\\python38\\lib\\site-packages (from tensorboard<2.14,>=2.13->tensorflow-intel==2.13.0->tensorflow) (0.7.2)\n",
      "Requirement already satisfied: werkzeug>=1.0.1 in c:\\users\\santo\\appdata\\local\\programs\\python\\python38\\lib\\site-packages (from tensorboard<2.14,>=2.13->tensorflow-intel==2.13.0->tensorflow) (3.0.6)\n",
      "Requirement already satisfied: cachetools<6.0,>=2.0.0 in c:\\users\\santo\\appdata\\local\\programs\\python\\python38\\lib\\site-packages (from google-auth<3,>=1.6.3->tensorboard<2.14,>=2.13->tensorflow-intel==2.13.0->tensorflow) (5.5.2)\n",
      "Requirement already satisfied: pyasn1-modules>=0.2.1 in c:\\users\\santo\\appdata\\local\\programs\\python\\python38\\lib\\site-packages (from google-auth<3,>=1.6.3->tensorboard<2.14,>=2.13->tensorflow-intel==2.13.0->tensorflow) (0.4.2)\n",
      "Requirement already satisfied: rsa<5,>=3.1.4 in c:\\users\\santo\\appdata\\local\\programs\\python\\python38\\lib\\site-packages (from google-auth<3,>=1.6.3->tensorboard<2.14,>=2.13->tensorflow-intel==2.13.0->tensorflow) (4.9.1)\n",
      "Requirement already satisfied: requests-oauthlib>=0.7.0 in c:\\users\\santo\\appdata\\local\\programs\\python\\python38\\lib\\site-packages (from google-auth-oauthlib<1.1,>=0.5->tensorboard<2.14,>=2.13->tensorflow-intel==2.13.0->tensorflow) (2.0.0)\n",
      "Requirement already satisfied: importlib-metadata>=4.4 in c:\\users\\santo\\appdata\\local\\programs\\python\\python38\\lib\\site-packages (from markdown>=2.6.8->tensorboard<2.14,>=2.13->tensorflow-intel==2.13.0->tensorflow) (8.5.0)\n",
      "Requirement already satisfied: charset_normalizer<4,>=2 in c:\\users\\santo\\appdata\\local\\programs\\python\\python38\\lib\\site-packages (from requests<3,>=2.21.0->tensorboard<2.14,>=2.13->tensorflow-intel==2.13.0->tensorflow) (3.4.2)\n",
      "Requirement already satisfied: idna<4,>=2.5 in c:\\users\\santo\\appdata\\local\\programs\\python\\python38\\lib\\site-packages (from requests<3,>=2.21.0->tensorboard<2.14,>=2.13->tensorflow-intel==2.13.0->tensorflow) (3.10)\n",
      "Requirement already satisfied: urllib3<3,>=1.21.1 in c:\\users\\santo\\appdata\\local\\programs\\python\\python38\\lib\\site-packages (from requests<3,>=2.21.0->tensorboard<2.14,>=2.13->tensorflow-intel==2.13.0->tensorflow) (2.2.3)\n",
      "Requirement already satisfied: certifi>=2017.4.17 in c:\\users\\santo\\appdata\\local\\programs\\python\\python38\\lib\\site-packages (from requests<3,>=2.21.0->tensorboard<2.14,>=2.13->tensorflow-intel==2.13.0->tensorflow) (2025.6.15)\n",
      "Requirement already satisfied: MarkupSafe>=2.1.1 in c:\\users\\santo\\appdata\\local\\programs\\python\\python38\\lib\\site-packages (from werkzeug>=1.0.1->tensorboard<2.14,>=2.13->tensorflow-intel==2.13.0->tensorflow) (2.1.5)\n",
      "Requirement already satisfied: zipp>=3.20 in c:\\users\\santo\\appdata\\local\\programs\\python\\python38\\lib\\site-packages (from importlib-metadata>=4.4->markdown>=2.6.8->tensorboard<2.14,>=2.13->tensorflow-intel==2.13.0->tensorflow) (3.20.2)\n",
      "Requirement already satisfied: pyasn1<0.7.0,>=0.6.1 in c:\\users\\santo\\appdata\\local\\programs\\python\\python38\\lib\\site-packages (from pyasn1-modules>=0.2.1->google-auth<3,>=1.6.3->tensorboard<2.14,>=2.13->tensorflow-intel==2.13.0->tensorflow) (0.6.1)\n",
      "Requirement already satisfied: oauthlib>=3.0.0 in c:\\users\\santo\\appdata\\local\\programs\\python\\python38\\lib\\site-packages (from requests-oauthlib>=0.7.0->google-auth-oauthlib<1.1,>=0.5->tensorboard<2.14,>=2.13->tensorflow-intel==2.13.0->tensorflow) (3.3.1)\n",
      "Note: you may need to restart the kernel to use updated packages.\n"
     ]
    }
   ],
   "source": [
    "pip install tensorflow"
   ]
  },
  {
   "cell_type": "code",
   "execution_count": 2,
   "id": "9ebf61bb-e493-48ce-9a5d-4131d8bd228c",
   "metadata": {},
   "outputs": [
    {
     "name": "stdout",
     "output_type": "stream",
     "text": [
      "Requirement already satisfied: keras in c:\\users\\santo\\appdata\\local\\programs\\python\\python38\\lib\\site-packages (2.13.1)\n",
      "Note: you may need to restart the kernel to use updated packages.\n"
     ]
    }
   ],
   "source": [
    "pip install keras"
   ]
  },
  {
   "cell_type": "code",
   "execution_count": 5,
   "id": "495a6618-3ea8-4edc-8fd4-5011657145ad",
   "metadata": {},
   "outputs": [],
   "source": [
    "import tensorflow as tf\n",
    "from keras.preprocessing.image import ImageDataGenerator"
   ]
  },
  {
   "cell_type": "code",
   "execution_count": 6,
   "id": "93726ecd-94ba-4138-ad2d-ca69386ebd1d",
   "metadata": {},
   "outputs": [
    {
     "data": {
      "text/plain": [
       "'2.13.0'"
      ]
     },
     "execution_count": 6,
     "metadata": {},
     "output_type": "execute_result"
    }
   ],
   "source": [
    "tf.__version__"
   ]
  },
  {
   "cell_type": "code",
   "execution_count": 8,
   "id": "4f7331fd-e7df-4776-86b8-b8f477c8bbcc",
   "metadata": {},
   "outputs": [
    {
     "name": "stdout",
     "output_type": "stream",
     "text": [
      "Collecting matplotlib\n",
      "  Downloading matplotlib-3.7.5-cp38-cp38-win_amd64.whl.metadata (5.8 kB)\n",
      "Collecting contourpy>=1.0.1 (from matplotlib)\n",
      "  Downloading contourpy-1.1.1-cp38-cp38-win_amd64.whl.metadata (5.9 kB)\n",
      "Collecting cycler>=0.10 (from matplotlib)\n",
      "  Downloading cycler-0.12.1-py3-none-any.whl.metadata (3.8 kB)\n",
      "Collecting fonttools>=4.22.0 (from matplotlib)\n",
      "  Downloading fonttools-4.57.0-cp38-cp38-win_amd64.whl.metadata (104 kB)\n",
      "Collecting kiwisolver>=1.0.1 (from matplotlib)\n",
      "  Downloading kiwisolver-1.4.7-cp38-cp38-win_amd64.whl.metadata (6.4 kB)\n",
      "Requirement already satisfied: numpy<2,>=1.20 in c:\\users\\santo\\appdata\\local\\programs\\python\\python38\\lib\\site-packages (from matplotlib) (1.24.3)\n",
      "Requirement already satisfied: packaging>=20.0 in c:\\users\\santo\\appdata\\local\\programs\\python\\python38\\lib\\site-packages (from matplotlib) (25.0)\n",
      "Requirement already satisfied: pillow>=6.2.0 in c:\\users\\santo\\appdata\\local\\programs\\python\\python38\\lib\\site-packages (from matplotlib) (10.4.0)\n",
      "Collecting pyparsing>=2.3.1 (from matplotlib)\n",
      "  Downloading pyparsing-3.1.4-py3-none-any.whl.metadata (5.1 kB)\n",
      "Requirement already satisfied: python-dateutil>=2.7 in c:\\users\\santo\\appdata\\local\\programs\\python\\python38\\lib\\site-packages (from matplotlib) (2.9.0.post0)\n",
      "Collecting importlib-resources>=3.2.0 (from matplotlib)\n",
      "  Downloading importlib_resources-6.4.5-py3-none-any.whl.metadata (4.0 kB)\n",
      "Requirement already satisfied: zipp>=3.1.0 in c:\\users\\santo\\appdata\\local\\programs\\python\\python38\\lib\\site-packages (from importlib-resources>=3.2.0->matplotlib) (3.20.2)\n",
      "Requirement already satisfied: six>=1.5 in c:\\users\\santo\\appdata\\local\\programs\\python\\python38\\lib\\site-packages (from python-dateutil>=2.7->matplotlib) (1.17.0)\n",
      "Downloading matplotlib-3.7.5-cp38-cp38-win_amd64.whl (7.5 MB)\n",
      "   ---------------------------------------- 0.0/7.5 MB ? eta -:--:--\n",
      "   ---------------------------------------- 0.0/7.5 MB ? eta -:--:--\n",
      "   - -------------------------------------- 0.3/7.5 MB ? eta -:--:--\n",
      "   - -------------------------------------- 0.3/7.5 MB ? eta -:--:--\n",
      "   -- ------------------------------------- 0.5/7.5 MB 560.1 kB/s eta 0:00:13\n",
      "   ---- ----------------------------------- 0.8/7.5 MB 819.2 kB/s eta 0:00:09\n",
      "   ----- ---------------------------------- 1.0/7.5 MB 883.6 kB/s eta 0:00:08\n",
      "   ------ --------------------------------- 1.3/7.5 MB 945.5 kB/s eta 0:00:07\n",
      "   -------- ------------------------------- 1.6/7.5 MB 943.0 kB/s eta 0:00:07\n",
      "   --------- ------------------------------ 1.8/7.5 MB 987.4 kB/s eta 0:00:06\n",
      "   --------- ------------------------------ 1.8/7.5 MB 987.4 kB/s eta 0:00:06\n",
      "   ----------- ---------------------------- 2.1/7.5 MB 970.9 kB/s eta 0:00:06\n",
      "   ------------ --------------------------- 2.4/7.5 MB 986.9 kB/s eta 0:00:06\n",
      "   ------------- -------------------------- 2.6/7.5 MB 993.4 kB/s eta 0:00:05\n",
      "   --------------- ------------------------ 2.9/7.5 MB 998.6 kB/s eta 0:00:05\n",
      "   ---------------- ----------------------- 3.1/7.5 MB 992.3 kB/s eta 0:00:05\n",
      "   ------------------ --------------------- 3.4/7.5 MB 991.7 kB/s eta 0:00:05\n",
      "   ------------------ --------------------- 3.4/7.5 MB 991.7 kB/s eta 0:00:05\n",
      "   ------------------- -------------------- 3.7/7.5 MB 986.9 kB/s eta 0:00:04\n",
      "   -------------------- ------------------- 3.9/7.5 MB 1.0 MB/s eta 0:00:04\n",
      "   ---------------------- ----------------- 4.2/7.5 MB 1.0 MB/s eta 0:00:04\n",
      "   ---------------------- ----------------- 4.2/7.5 MB 1.0 MB/s eta 0:00:04\n",
      "   ------------------------- -------------- 4.7/7.5 MB 1.0 MB/s eta 0:00:03\n",
      "   -------------------------- ------------- 5.0/7.5 MB 1.0 MB/s eta 0:00:03\n",
      "   --------------------------- ------------ 5.2/7.5 MB 1.0 MB/s eta 0:00:03\n",
      "   --------------------------- ------------ 5.2/7.5 MB 1.0 MB/s eta 0:00:03\n",
      "   ----------------------------- ---------- 5.5/7.5 MB 1.0 MB/s eta 0:00:02\n",
      "   ------------------------------ --------- 5.8/7.5 MB 1.0 MB/s eta 0:00:02\n",
      "   -------------------------------- ------- 6.0/7.5 MB 1.0 MB/s eta 0:00:02\n",
      "   -------------------------------- ------- 6.0/7.5 MB 1.0 MB/s eta 0:00:02\n",
      "   --------------------------------- ------ 6.3/7.5 MB 997.1 kB/s eta 0:00:02\n",
      "   ---------------------------------- ----- 6.6/7.5 MB 994.2 kB/s eta 0:00:01\n",
      "   ---------------------------------- ----- 6.6/7.5 MB 994.2 kB/s eta 0:00:01\n",
      "   ------------------------------------ --- 6.8/7.5 MB 970.9 kB/s eta 0:00:01\n",
      "   ------------------------------------- -- 7.1/7.5 MB 965.1 kB/s eta 0:00:01\n",
      "   ------------------------------------- -- 7.1/7.5 MB 965.1 kB/s eta 0:00:01\n",
      "   ---------------------------------------  7.3/7.5 MB 970.0 kB/s eta 0:00:01\n",
      "   ---------------------------------------- 7.5/7.5 MB 964.1 kB/s eta 0:00:00\n",
      "Downloading contourpy-1.1.1-cp38-cp38-win_amd64.whl (477 kB)\n",
      "Downloading cycler-0.12.1-py3-none-any.whl (8.3 kB)\n",
      "Downloading fonttools-4.57.0-cp38-cp38-win_amd64.whl (1.5 MB)\n",
      "   ---------------------------------------- 0.0/1.5 MB ? eta -:--:--\n",
      "   ---------------------------------------- 0.0/1.5 MB ? eta -:--:--\n",
      "   ------ --------------------------------- 0.3/1.5 MB ? eta -:--:--\n",
      "   ------------- -------------------------- 0.5/1.5 MB 1.1 MB/s eta 0:00:01\n",
      "   -------------------- ------------------- 0.8/1.5 MB 1.1 MB/s eta 0:00:01\n",
      "   -------------------- ------------------- 0.8/1.5 MB 1.1 MB/s eta 0:00:01\n",
      "   --------------------------- ------------ 1.0/1.5 MB 949.8 kB/s eta 0:00:01\n",
      "   ---------------------------------- ----- 1.3/1.5 MB 972.7 kB/s eta 0:00:01\n",
      "   ---------------------------------------- 1.5/1.5 MB 954.4 kB/s eta 0:00:00\n",
      "Downloading importlib_resources-6.4.5-py3-none-any.whl (36 kB)\n",
      "Downloading kiwisolver-1.4.7-cp38-cp38-win_amd64.whl (55 kB)\n",
      "Downloading pyparsing-3.1.4-py3-none-any.whl (104 kB)\n",
      "Installing collected packages: pyparsing, kiwisolver, importlib-resources, fonttools, cycler, contourpy, matplotlib\n",
      "Successfully installed contourpy-1.1.1 cycler-0.12.1 fonttools-4.57.0 importlib-resources-6.4.5 kiwisolver-1.4.7 matplotlib-3.7.5 pyparsing-3.1.4\n",
      "Note: you may need to restart the kernel to use updated packages.\n"
     ]
    }
   ],
   "source": [
    "pip install matplotlib"
   ]
  },
  {
   "cell_type": "code",
   "execution_count": 9,
   "id": "4f54c3b0-8c7e-4743-9dc9-172eba031bc6",
   "metadata": {},
   "outputs": [],
   "source": [
    "import matplotlib.pyplot as plt"
   ]
  },
  {
   "cell_type": "markdown",
   "id": "f452e1d7-0b78-4613-85fc-991572c4de18",
   "metadata": {},
   "source": [
    "# Data Preprocessing"
   ]
  },
  {
   "cell_type": "markdown",
   "id": "acc6dad6-0c7a-491c-8527-f5dca627e981",
   "metadata": {},
   "source": [
    "- ## Preprocessing the Training set"
   ]
  },
  {
   "cell_type": "code",
   "execution_count": 11,
   "id": "89d26f32-8c24-4796-a3a6-5e804780a9d2",
   "metadata": {},
   "outputs": [
    {
     "name": "stdout",
     "output_type": "stream",
     "text": [
      "Found 50 images belonging to 2 classes.\n"
     ]
    }
   ],
   "source": [
    "train_datagen = ImageDataGenerator(rescale = 1./255,\n",
    "                                  shear_range = 0.2,\n",
    "                                  zoom_range = 0.2,\n",
    "                                  horizontal_flip = True)\n",
    "training_set = train_datagen.flow_from_directory('E:\\\\ML_Projects_file\\\\Projects\\\\datasets\\\\pokemon\\\\pika_pika\\\\training_set',\n",
    "                                                target_size = (64, 64),\n",
    "                                                 batch_size = 32,\n",
    "                                                 class_mode = 'binary')"
   ]
  },
  {
   "cell_type": "markdown",
   "id": "e5af5e26-9cfa-4096-8ff5-6cb2cfc0e2a1",
   "metadata": {},
   "source": [
    "- ## Preprocessing the Test set"
   ]
  },
  {
   "cell_type": "code",
   "execution_count": 12,
   "id": "803e3d2a-4c0c-4365-9bd6-4f27559bf63f",
   "metadata": {},
   "outputs": [
    {
     "name": "stdout",
     "output_type": "stream",
     "text": [
      "Found 10 images belonging to 2 classes.\n"
     ]
    }
   ],
   "source": [
    "test_datagen = ImageDataGenerator(rescale = 1./255)\n",
    "test_set = test_datagen.flow_from_directory('E:\\\\ML_Projects_file\\\\Projects\\\\datasets\\\\pokemon\\\\pika_pika\\\\test_set',\n",
    "                                           target_size = (64, 64),\n",
    "                                                 batch_size = 32,\n",
    "                                                 class_mode = 'binary')"
   ]
  },
  {
   "cell_type": "markdown",
   "id": "37cce4b7-1c25-4fa5-9b21-3349445ee02f",
   "metadata": {},
   "source": [
    "# Building CNN"
   ]
  },
  {
   "cell_type": "markdown",
   "id": "17284bfe-f22a-4c23-aca9-3cd84fe2b552",
   "metadata": {},
   "source": [
    "- ## Initialising the CNN"
   ]
  },
  {
   "cell_type": "code",
   "execution_count": 13,
   "id": "1b2ec433-e2a7-4e41-95b2-c4d837be7d2c",
   "metadata": {},
   "outputs": [],
   "source": [
    "cnn = tf.keras.models.Sequential()"
   ]
  },
  {
   "cell_type": "markdown",
   "id": "952ee14a-182e-42a2-affa-61ee8b3797b0",
   "metadata": {},
   "source": [
    "- ## 1 - Convolution"
   ]
  },
  {
   "cell_type": "code",
   "execution_count": 14,
   "id": "6f1ec178-c0e4-4ab8-938d-41e2845d2386",
   "metadata": {},
   "outputs": [],
   "source": [
    "cnn.add(tf.keras.layers.Conv2D(filters = 32, kernel_size = 3, activation = 'relu', input_shape = [64, 64, 3]))"
   ]
  },
  {
   "cell_type": "markdown",
   "id": "e7a8807a-8d1d-4759-a3e4-7bccec5c8ec9",
   "metadata": {},
   "source": [
    "- ## 2 - Pooling"
   ]
  },
  {
   "cell_type": "code",
   "execution_count": 15,
   "id": "5b837786-1c8d-4a9f-b902-a8b11b2aa054",
   "metadata": {},
   "outputs": [],
   "source": [
    "cnn.add(tf.keras.layers.MaxPool2D(pool_size = 2, strides = 2))"
   ]
  },
  {
   "cell_type": "markdown",
   "id": "75b6d9a4-bdbf-4bfe-844a-420c8e3bba9b",
   "metadata": {},
   "source": [
    "- ## Adding a Second Convolutional layer"
   ]
  },
  {
   "cell_type": "code",
   "execution_count": 16,
   "id": "3d8ab4c0-e4e9-4ad7-8b26-7f99266e8b47",
   "metadata": {},
   "outputs": [],
   "source": [
    "cnn.add(tf.keras.layers.Conv2D(filters = 32, kernel_size = 3, activation = 'relu'))\n",
    "cnn.add(tf.keras.layers.MaxPool2D(pool_size = 2, strides = 2))"
   ]
  },
  {
   "cell_type": "markdown",
   "id": "aeb8f0ba-e0f7-43b4-8569-299751c18233",
   "metadata": {},
   "source": [
    "- ## 3 - Flattening"
   ]
  },
  {
   "cell_type": "code",
   "execution_count": 17,
   "id": "3e3d6b0e-e9eb-4215-ba2c-6975139d7d33",
   "metadata": {},
   "outputs": [],
   "source": [
    "cnn.add(tf.keras.layers.Flatten())"
   ]
  },
  {
   "cell_type": "markdown",
   "id": "28e19070-27c5-4b70-ab89-0682dc7dab00",
   "metadata": {},
   "source": [
    "- ## 4 - Full Connection"
   ]
  },
  {
   "cell_type": "code",
   "execution_count": 18,
   "id": "d9006768-28fd-4c7d-a5fd-777a75685878",
   "metadata": {},
   "outputs": [],
   "source": [
    "cnn.add(tf.keras.layers.Dense(units = 128, activation = 'relu'))"
   ]
  },
  {
   "cell_type": "markdown",
   "id": "014fdbd7-a160-4756-8a03-a2a69f7e57ec",
   "metadata": {},
   "source": [
    "- ## 5 - Output layer"
   ]
  },
  {
   "cell_type": "code",
   "execution_count": 19,
   "id": "06104db7-f527-4852-b6af-3c0f819f5b57",
   "metadata": {},
   "outputs": [],
   "source": [
    "cnn.add(tf.keras.layers.Dense(units = 1, activation = 'sigmoid'))"
   ]
  },
  {
   "cell_type": "markdown",
   "id": "d8bb1a26-4886-4ab1-8aea-9e3eb62c045d",
   "metadata": {},
   "source": [
    "# Training the CNN"
   ]
  },
  {
   "cell_type": "markdown",
   "id": "e994cdd4-ef68-4c71-aec4-a009fe34ac5d",
   "metadata": {},
   "source": [
    "- ## Compiling the CNN"
   ]
  },
  {
   "cell_type": "code",
   "execution_count": 20,
   "id": "ef1e5f61-5809-4393-a680-165ddca78a32",
   "metadata": {},
   "outputs": [],
   "source": [
    "cnn.compile(optimizer = 'adam', loss = 'binary_crossentropy', metrics = ['accuracy'])"
   ]
  },
  {
   "cell_type": "markdown",
   "id": "ad8b3d32-b4f6-436a-9f7b-3f812751578b",
   "metadata": {},
   "source": [
    "- ## Training the CNN on the Training set and evaluating it on the Test set"
   ]
  },
  {
   "cell_type": "code",
   "execution_count": 21,
   "id": "68b2e698-4dc4-44b0-8419-e2b64453daeb",
   "metadata": {},
   "outputs": [
    {
     "name": "stdout",
     "output_type": "stream",
     "text": [
      "Epoch 1/25\n",
      "2/2 [==============================] - 4s 2s/step - loss: 0.9109 - accuracy: 0.4400 - val_loss: 0.6810 - val_accuracy: 0.5000\n",
      "Epoch 2/25\n",
      "2/2 [==============================] - 1s 525ms/step - loss: 0.7355 - accuracy: 0.4400 - val_loss: 0.8680 - val_accuracy: 0.5000\n",
      "Epoch 3/25\n",
      "2/2 [==============================] - 1s 521ms/step - loss: 0.7587 - accuracy: 0.4800 - val_loss: 0.7452 - val_accuracy: 0.5000\n",
      "Epoch 4/25\n",
      "2/2 [==============================] - 1s 847ms/step - loss: 0.6481 - accuracy: 0.6200 - val_loss: 0.6679 - val_accuracy: 0.7000\n",
      "Epoch 5/25\n",
      "2/2 [==============================] - 1s 533ms/step - loss: 0.6076 - accuracy: 0.7200 - val_loss: 0.6581 - val_accuracy: 0.5000\n",
      "Epoch 6/25\n",
      "2/2 [==============================] - 1s 799ms/step - loss: 0.5945 - accuracy: 0.6000 - val_loss: 0.6567 - val_accuracy: 0.7000\n",
      "Epoch 7/25\n",
      "2/2 [==============================] - 1s 809ms/step - loss: 0.5343 - accuracy: 0.8200 - val_loss: 0.6486 - val_accuracy: 0.6000\n",
      "Epoch 8/25\n",
      "2/2 [==============================] - 1s 745ms/step - loss: 0.4784 - accuracy: 0.9200 - val_loss: 0.6592 - val_accuracy: 0.8000\n",
      "Epoch 9/25\n",
      "2/2 [==============================] - 1s 583ms/step - loss: 0.4006 - accuracy: 0.9200 - val_loss: 0.6116 - val_accuracy: 0.6000\n",
      "Epoch 10/25\n",
      "2/2 [==============================] - 1s 671ms/step - loss: 0.3041 - accuracy: 0.9400 - val_loss: 0.6489 - val_accuracy: 0.8000\n",
      "Epoch 11/25\n",
      "2/2 [==============================] - 1s 922ms/step - loss: 0.2709 - accuracy: 0.9200 - val_loss: 0.6206 - val_accuracy: 0.8000\n",
      "Epoch 12/25\n",
      "2/2 [==============================] - 1s 523ms/step - loss: 0.2094 - accuracy: 0.9400 - val_loss: 0.5564 - val_accuracy: 0.7000\n",
      "Epoch 13/25\n",
      "2/2 [==============================] - 1s 931ms/step - loss: 0.1749 - accuracy: 0.9400 - val_loss: 0.6180 - val_accuracy: 0.8000\n",
      "Epoch 14/25\n",
      "2/2 [==============================] - 1s 963ms/step - loss: 0.1510 - accuracy: 0.9600 - val_loss: 0.5976 - val_accuracy: 0.8000\n",
      "Epoch 15/25\n",
      "2/2 [==============================] - 1s 932ms/step - loss: 0.1185 - accuracy: 0.9400 - val_loss: 0.4727 - val_accuracy: 0.7000\n",
      "Epoch 16/25\n",
      "2/2 [==============================] - 1s 606ms/step - loss: 0.0860 - accuracy: 1.0000 - val_loss: 0.6825 - val_accuracy: 0.8000\n",
      "Epoch 17/25\n",
      "2/2 [==============================] - 1s 572ms/step - loss: 0.0760 - accuracy: 0.9600 - val_loss: 0.8284 - val_accuracy: 0.8000\n",
      "Epoch 18/25\n",
      "2/2 [==============================] - 1s 626ms/step - loss: 0.0880 - accuracy: 0.9600 - val_loss: 0.4569 - val_accuracy: 0.9000\n",
      "Epoch 19/25\n",
      "2/2 [==============================] - 1s 956ms/step - loss: 0.0720 - accuracy: 0.9800 - val_loss: 0.4275 - val_accuracy: 0.7000\n",
      "Epoch 20/25\n",
      "2/2 [==============================] - 1s 638ms/step - loss: 0.0457 - accuracy: 1.0000 - val_loss: 0.6311 - val_accuracy: 0.9000\n",
      "Epoch 21/25\n",
      "2/2 [==============================] - 1s 961ms/step - loss: 0.0558 - accuracy: 0.9800 - val_loss: 0.8157 - val_accuracy: 0.9000\n",
      "Epoch 22/25\n",
      "2/2 [==============================] - 1s 838ms/step - loss: 0.0273 - accuracy: 1.0000 - val_loss: 0.5895 - val_accuracy: 0.9000\n",
      "Epoch 23/25\n",
      "2/2 [==============================] - 1s 742ms/step - loss: 0.0114 - accuracy: 1.0000 - val_loss: 0.4420 - val_accuracy: 0.9000\n",
      "Epoch 24/25\n",
      "2/2 [==============================] - 1s 559ms/step - loss: 0.0188 - accuracy: 1.0000 - val_loss: 0.4710 - val_accuracy: 0.9000\n",
      "Epoch 25/25\n",
      "2/2 [==============================] - 1s 848ms/step - loss: 0.0138 - accuracy: 1.0000 - val_loss: 0.7709 - val_accuracy: 0.9000\n"
     ]
    }
   ],
   "source": [
    "trained_model = cnn.fit(training_set, validation_data = test_set, epochs = 25)"
   ]
  },
  {
   "cell_type": "markdown",
   "id": "e7b4db0c-dd55-4b06-8363-e258c4339d1c",
   "metadata": {},
   "source": [
    "# Making a Single Prediction"
   ]
  },
  {
   "cell_type": "code",
   "execution_count": 22,
   "id": "93e74d11-8053-45c5-8023-2d213816b346",
   "metadata": {},
   "outputs": [
    {
     "name": "stdout",
     "output_type": "stream",
     "text": [
      "1/1 [==============================] - 0s 244ms/step\n"
     ]
    }
   ],
   "source": [
    "import numpy as np\n",
    "from keras.preprocessing import image\n",
    "test_image = image.load_img('E:\\ML_Projects_file\\Projects\\datasets\\pokemon\\pika_pika\\single_prediction\\check_2.png', target_size = (64, 64))\n",
    "test_image = image.img_to_array(test_image)\n",
    "test_image = np.expand_dims(test_image, axis = 0)\n",
    "result = cnn.predict(test_image)\n",
    "training_set.class_indices\n",
    "if result[0][0] == 1:\n",
    "    prediction = 'Pikachu'\n",
    "else:\n",
    "    prediction = 'Raichu'"
   ]
  },
  {
   "cell_type": "code",
   "execution_count": 23,
   "id": "bd0429e7-a9c7-4edb-970f-cc3aa759ede2",
   "metadata": {},
   "outputs": [
    {
     "name": "stdout",
     "output_type": "stream",
     "text": [
      "Pikachu\n"
     ]
    }
   ],
   "source": [
    "print(prediction)"
   ]
  },
  {
   "cell_type": "code",
   "execution_count": 24,
   "id": "d168fe4e-c6d8-42ba-9125-d64114a1ca0f",
   "metadata": {},
   "outputs": [
    {
     "name": "stdout",
     "output_type": "stream",
     "text": [
      "[[1.]]\n"
     ]
    }
   ],
   "source": [
    "print(result)"
   ]
  },
  {
   "cell_type": "markdown",
   "id": "edaaafca-a369-42ed-a802-bc60f12d0e04",
   "metadata": {},
   "source": [
    "# Another One Prediction"
   ]
  },
  {
   "cell_type": "code",
   "execution_count": 25,
   "id": "d5be8369-292c-43f1-a8da-4cff51e470b9",
   "metadata": {},
   "outputs": [
    {
     "name": "stdout",
     "output_type": "stream",
     "text": [
      "1/1 [==============================] - 0s 46ms/step\n"
     ]
    }
   ],
   "source": [
    "import numpy as np\n",
    "from keras.preprocessing import image\n",
    "test_image = image.load_img('E:\\ML_Projects_file\\Projects\\datasets\\pokemon\\pika_pika\\single_prediction\\check_3.jpg', target_size = (64, 64))\n",
    "test_image = image.img_to_array(test_image)\n",
    "test_image = np.expand_dims(test_image, axis = 0)\n",
    "result = cnn.predict(test_image)\n",
    "training_set.class_indices\n",
    "if result[0][0] == 1:\n",
    "    prediction = 'Pikachu'\n",
    "else:\n",
    "    prediction = 'Raichu'"
   ]
  },
  {
   "cell_type": "code",
   "execution_count": 26,
   "id": "9bab230a-60f1-4af4-99bb-d9a6444df088",
   "metadata": {},
   "outputs": [
    {
     "name": "stdout",
     "output_type": "stream",
     "text": [
      "Raichu\n"
     ]
    }
   ],
   "source": [
    "print(prediction)"
   ]
  },
  {
   "cell_type": "code",
   "execution_count": 27,
   "id": "9d522635-7a2e-4b95-985d-fc10ad143dde",
   "metadata": {},
   "outputs": [
    {
     "name": "stdout",
     "output_type": "stream",
     "text": [
      "[[0.]]\n"
     ]
    }
   ],
   "source": [
    "print(result)"
   ]
  }
 ],
 "metadata": {
  "kernelspec": {
   "display_name": "Python (ML_kernel)",
   "language": "python",
   "name": "ml_kernel"
  },
  "language_info": {
   "codemirror_mode": {
    "name": "ipython",
    "version": 3
   },
   "file_extension": ".py",
   "mimetype": "text/x-python",
   "name": "python",
   "nbconvert_exporter": "python",
   "pygments_lexer": "ipython3",
   "version": "3.8.0"
  }
 },
 "nbformat": 4,
 "nbformat_minor": 5
}
